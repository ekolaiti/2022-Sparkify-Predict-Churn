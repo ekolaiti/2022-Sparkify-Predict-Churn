{
 "cells": [
  {
   "cell_type": "markdown",
   "metadata": {},
   "source": [
    "# Sparkify Project Workspace\n",
    "This workspace contains a tiny subset (128MB) of the full dataset available (12GB). Feel free to use this workspace to build your project, or to explore a smaller subset with Spark before deploying your cluster on the cloud. Instructions for setting up your Spark cluster is included in the last lesson of the Extracurricular Spark Course content.\n",
    "\n",
    "You can follow the steps below to guide your data analysis and model building portion of this project."
   ]
  },
  {
   "cell_type": "code",
   "execution_count": 1,
   "metadata": {},
   "outputs": [],
   "source": [
    "# import libraries\n",
    "from pyspark.sql import SparkSession\n",
    "\n",
    "from pyspark.sql.functions import udf\n",
    "from pyspark.sql.types import StringType, IntegerType \n",
    "from pyspark.sql.functions import desc, asc, datediff, to_date, lit, col\n",
    "from pyspark.sql.functions import sum as Fsum\n",
    "from pyspark.sql import Window\n",
    "from pyspark.sql.functions import * \n",
    "\n",
    "import datetime\n",
    "import numpy as np\n",
    "import pandas as pd\n",
    "%matplotlib inline\n",
    "import matplotlib.pyplot as plt\n",
    "from matplotlib.pyplot import figure\n",
    "import re\n",
    "import seaborn as sns\n",
    "\n",
    "from pyspark.ml import Pipeline\n",
    "from pyspark.ml.classification import LogisticRegression, LogisticRegressionModel,\\\n",
    "RandomForestClassifier, RandomForestClassificationModel,\\\n",
    "DecisionTreeClassifier, DecisionTreeClassificationModel,\\\n",
    "GBTClassifier, GBTClassificationModel\n",
    "from pyspark.ml.evaluation import BinaryClassificationEvaluator, RegressionEvaluator, MulticlassClassificationEvaluator\n",
    "from pyspark.ml.feature import VectorAssembler, Normalizer, StandardScaler, MinMaxScaler\n",
    "from pyspark.ml.regression import LinearRegression\n",
    "from pyspark.ml.tuning import CrossValidator, ParamGridBuilder\n",
    "from pyspark.mllib.util import MLUtils"
   ]
  },
  {
   "cell_type": "code",
   "execution_count": 2,
   "metadata": {},
   "outputs": [],
   "source": [
    "# create a Spark session\n",
    "spark = SparkSession \\\n",
    "    .builder \\\n",
    "    .appName(\"Sparkify Churn\") \\\n",
    "    .getOrCreate()"
   ]
  },
  {
   "cell_type": "markdown",
   "metadata": {},
   "source": [
    "# Load and Clean Dataset\n",
    "In this workspace, the mini-dataset file is `mini_sparkify_event_data.json`. Load and clean the dataset, checking for invalid or missing data - for example, records without userids or sessionids. "
   ]
  },
  {
   "cell_type": "markdown",
   "metadata": {},
   "source": [
    "### Step 1 - Load the dataset"
   ]
  },
  {
   "cell_type": "code",
   "execution_count": 3,
   "metadata": {},
   "outputs": [],
   "source": [
    "# load the mini-dataset json file into the user_log PySpark DataFrame\n",
    "path = \"mini_sparkify_event_data.json\"\n",
    "user_log = spark.read.json(path)"
   ]
  },
  {
   "cell_type": "code",
   "execution_count": 4,
   "metadata": {},
   "outputs": [
    {
     "name": "stdout",
     "output_type": "stream",
     "text": [
      "root\n",
      " |-- artist: string (nullable = true)\n",
      " |-- auth: string (nullable = true)\n",
      " |-- firstName: string (nullable = true)\n",
      " |-- gender: string (nullable = true)\n",
      " |-- itemInSession: long (nullable = true)\n",
      " |-- lastName: string (nullable = true)\n",
      " |-- length: double (nullable = true)\n",
      " |-- level: string (nullable = true)\n",
      " |-- location: string (nullable = true)\n",
      " |-- method: string (nullable = true)\n",
      " |-- page: string (nullable = true)\n",
      " |-- registration: long (nullable = true)\n",
      " |-- sessionId: long (nullable = true)\n",
      " |-- song: string (nullable = true)\n",
      " |-- status: long (nullable = true)\n",
      " |-- ts: long (nullable = true)\n",
      " |-- userAgent: string (nullable = true)\n",
      " |-- userId: string (nullable = true)\n",
      "\n"
     ]
    }
   ],
   "source": [
    "# display the Schema of the dataframe \n",
    "user_log.printSchema()"
   ]
  },
  {
   "cell_type": "markdown",
   "metadata": {},
   "source": [
    "### Step 2 - Clean the dataset"
   ]
  },
  {
   "cell_type": "code",
   "execution_count": 5,
   "metadata": {},
   "outputs": [
    {
     "data": {
      "text/plain": [
       "286500"
      ]
     },
     "execution_count": 5,
     "metadata": {},
     "output_type": "execute_result"
    }
   ],
   "source": [
    "# check the number of rows in the dataset\n",
    "user_log.count()"
   ]
  },
  {
   "cell_type": "code",
   "execution_count": 6,
   "metadata": {},
   "outputs": [
    {
     "name": "stdout",
     "output_type": "stream",
     "text": [
      "+-------+-----------------+-----------------+\n",
      "|summary|        sessionId|           userId|\n",
      "+-------+-----------------+-----------------+\n",
      "|  count|           286500|           286500|\n",
      "|   mean|1041.526554973822|59682.02278593872|\n",
      "| stddev|726.7762634630741|109091.9499991047|\n",
      "|    min|                1|                 |\n",
      "|    max|             2474|               99|\n",
      "+-------+-----------------+-----------------+\n",
      "\n"
     ]
    }
   ],
   "source": [
    "# check stats of the sessionId and userId field that have a numeric datatype\n",
    "user_log.describe('sessionId', 'userId').show()"
   ]
  },
  {
   "cell_type": "markdown",
   "metadata": {},
   "source": [
    "Notice that the min value for userId is empty."
   ]
  },
  {
   "cell_type": "code",
   "execution_count": 7,
   "metadata": {
    "scrolled": true
   },
   "outputs": [
    {
     "data": {
      "text/plain": [
       "286500"
      ]
     },
     "execution_count": 7,
     "metadata": {},
     "output_type": "execute_result"
    }
   ],
   "source": [
    "# drop any null values in userId or sessionId\n",
    "user_log_valid = user_log.dropna(how=\"any\", subset = [\"userId\", \"sessionId\"])\n",
    "user_log_valid.count()"
   ]
  },
  {
   "cell_type": "markdown",
   "metadata": {},
   "source": [
    "There are 286500 records in total and all the records have a userId and a sessionId, but some userIds are empty."
   ]
  },
  {
   "cell_type": "code",
   "execution_count": 8,
   "metadata": {},
   "outputs": [
    {
     "name": "stdout",
     "output_type": "stream",
     "text": [
      "+------+\n",
      "|userId|\n",
      "+------+\n",
      "|      |\n",
      "|    10|\n",
      "|   100|\n",
      "|100001|\n",
      "|100002|\n",
      "|100003|\n",
      "|100004|\n",
      "|100005|\n",
      "|100006|\n",
      "|100007|\n",
      "|100008|\n",
      "|100009|\n",
      "|100010|\n",
      "|100011|\n",
      "|100012|\n",
      "|100013|\n",
      "|100014|\n",
      "|100015|\n",
      "|100016|\n",
      "|100017|\n",
      "+------+\n",
      "only showing top 20 rows\n",
      "\n"
     ]
    }
   ],
   "source": [
    "# select the userId column, remove duplicates and sort ascending\n",
    "# check the values of the userId column of the dataframe\n",
    "user_log_valid.select('userId').dropDuplicates().sort('userId').show()"
   ]
  },
  {
   "cell_type": "code",
   "execution_count": 9,
   "metadata": {},
   "outputs": [
    {
     "name": "stdout",
     "output_type": "stream",
     "text": [
      "+---------+\n",
      "|sessionId|\n",
      "+---------+\n",
      "|        1|\n",
      "|        2|\n",
      "|        3|\n",
      "|        4|\n",
      "|        5|\n",
      "|        6|\n",
      "|        7|\n",
      "|        8|\n",
      "|        9|\n",
      "|       10|\n",
      "|       11|\n",
      "|       12|\n",
      "|       13|\n",
      "|       15|\n",
      "|       16|\n",
      "|       17|\n",
      "|       18|\n",
      "|       19|\n",
      "|       20|\n",
      "|       21|\n",
      "+---------+\n",
      "only showing top 20 rows\n",
      "\n"
     ]
    }
   ],
   "source": [
    "# select the sessionId column, remove duplicates and sort ascending\n",
    "# check the values of the sessionId column of the dataframe\n",
    "# there aren't any blank values of sessionId\n",
    "user_log_valid.select('sessionId').dropDuplicates().sort('sessionId').show()"
   ]
  },
  {
   "cell_type": "code",
   "execution_count": 10,
   "metadata": {},
   "outputs": [
    {
     "name": "stdout",
     "output_type": "stream",
     "text": [
      "+-------------------+\n",
      "|        blank_pages|\n",
      "+-------------------+\n",
      "|               Home|\n",
      "|              About|\n",
      "|Submit Registration|\n",
      "|              Login|\n",
      "|           Register|\n",
      "|               Help|\n",
      "|              Error|\n",
      "+-------------------+\n",
      "\n"
     ]
    }
   ],
   "source": [
    "# filter the pages that have been accessed by users with blank user id\n",
    "blank_pages = user_log.filter(user_log.userId == '') \\\n",
    "    .select(col('page') \\\n",
    "    .alias('blank_pages')) \\\n",
    "    .dropDuplicates()\n",
    "\n",
    "blank_pages.show()"
   ]
  },
  {
   "cell_type": "markdown",
   "metadata": {},
   "source": [
    "Based on the above analysis, there are records with blank values for the userId column but not for the sessionId. These records correspond to a subset of pages. It looks like these are users that haven't signed up in the platform yet or have signed up and are about to log in."
   ]
  },
  {
   "cell_type": "code",
   "execution_count": 11,
   "metadata": {},
   "outputs": [],
   "source": [
    "# keep only the records that don't have a blank userId\n",
    "user_log_valid = user_log_valid.filter(user_log_valid['userId'] != '')"
   ]
  },
  {
   "cell_type": "code",
   "execution_count": 12,
   "metadata": {},
   "outputs": [
    {
     "name": "stdout",
     "output_type": "stream",
     "text": [
      "There are 278154 records with a valid userId in the clean dataset.\n",
      "These records correspond to 225 unique users.\n"
     ]
    }
   ],
   "source": [
    "print(f\"There are {user_log_valid.count()} records with a valid userId in the clean dataset.\")\n",
    "print(f\"These records correspond to {user_log_valid.select('userId').dropDuplicates().count()} unique users.\")"
   ]
  },
  {
   "cell_type": "markdown",
   "metadata": {},
   "source": [
    "# Exploratory Data Analysis\n",
    "When you're working with the full dataset, perform EDA by loading a small subset of the data and doing basic manipulations within Spark. In this workspace, you are already provided a small subset of data you can explore.\n",
    "\n",
    "### Define Churn\n",
    "\n",
    "Once you've done some preliminary analysis, create a column `Churn` to use as the label for your model. I suggest using the `Cancellation Confirmation` events to define your churn, which happen for both paid and free users. As a bonus task, you can also look into the `Downgrade` events.\n",
    "\n",
    "### Explore Data\n",
    "Once you've defined churn, perform some exploratory data analysis to observe the behavior for users who stayed vs users who churned. You can start by exploring aggregates on these two groups of users, observing how much of a specific action they experienced per a certain time unit or number of songs played."
   ]
  },
  {
   "cell_type": "markdown",
   "metadata": {},
   "source": [
    "### Preliminary analysis"
   ]
  },
  {
   "cell_type": "code",
   "execution_count": 13,
   "metadata": {},
   "outputs": [
    {
     "name": "stdout",
     "output_type": "stream",
     "text": [
      "+--------------------+\n",
      "|                page|\n",
      "+--------------------+\n",
      "|               About|\n",
      "|          Add Friend|\n",
      "|     Add to Playlist|\n",
      "|              Cancel|\n",
      "|Cancellation Conf...|\n",
      "|           Downgrade|\n",
      "|               Error|\n",
      "|                Help|\n",
      "|                Home|\n",
      "|              Logout|\n",
      "|            NextSong|\n",
      "|         Roll Advert|\n",
      "|       Save Settings|\n",
      "|            Settings|\n",
      "|    Submit Downgrade|\n",
      "|      Submit Upgrade|\n",
      "|         Thumbs Down|\n",
      "|           Thumbs Up|\n",
      "|             Upgrade|\n",
      "+--------------------+\n",
      "\n"
     ]
    }
   ],
   "source": [
    "# select the page column, remove duplicates and sort ascending\n",
    "# check the values of the page column of the dataframe\n",
    "user_log_valid.select(\"page\").dropDuplicates().sort(\"page\").show()"
   ]
  },
  {
   "cell_type": "markdown",
   "metadata": {},
   "source": [
    "There seem to be following categories of page views or actions:  \n",
    "1. Actions that are related to the usage of the platform:  \n",
    "Add Friend, Add to Playlist, NextSong, Roll Advert, Thumbs Down, Thumbs Up\n",
    "  \n",
    "2. Actions that are related to navigating the platform, or managing settings:  \n",
    "About, Help, Home, Save Settings, Settings, Logout\n",
    "\n",
    "3. Actions that are related to downgrading or cancelling the user's subscription:  \n",
    "Cancel, Cancellation Confirmation, Downgrade, Submit Downgrade\n",
    "\n",
    "4. Actions that are related to upgrading the user's subscription:  \n",
    "Submit Upgrade, Upgrade\n",
    "\n",
    "5. Error page:  \n",
    "Error\n",
    "\n",
    "\n",
    "From the above actions the one that is definitely related to users downgrading is the `Cancellation Confirmation` that is the last step before quitting the platform."
   ]
  },
  {
   "cell_type": "code",
   "execution_count": 14,
   "metadata": {},
   "outputs": [
    {
     "name": "stdout",
     "output_type": "stream",
     "text": [
      "+-------+------------------+-----------------+------------------+-----------------+------------------+\n",
      "|summary|         sessionId|           userId|     itemInSession|           length|            status|\n",
      "+-------+------------------+-----------------+------------------+-----------------+------------------+\n",
      "|  count|            278154|           278154|            278154|           228108|            278154|\n",
      "|   mean|1042.5616241362698|59682.02278593872|114.89918174824018|249.1171819778458|209.10321620397335|\n",
      "| stddev| 726.5010362219813|109091.9499991047|  129.851729399489|99.23517921058361|30.151388851328214|\n",
      "|    min|                 1|               10|                 0|          0.78322|               200|\n",
      "|    max|              2474|               99|              1321|       3024.66567|               404|\n",
      "+-------+------------------+-----------------+------------------+-----------------+------------------+\n",
      "\n"
     ]
    }
   ],
   "source": [
    "# check some stats of the columns that have a numeric datatype\n",
    "user_log_valid.describe('sessionId', 'userId', 'itemInSession', 'length', 'status').show()"
   ]
  },
  {
   "cell_type": "code",
   "execution_count": 15,
   "metadata": {},
   "outputs": [
    {
     "name": "stdout",
     "output_type": "stream",
     "text": [
      "+------+\n",
      "|status|\n",
      "+------+\n",
      "|   200|\n",
      "|   307|\n",
      "|   404|\n",
      "+------+\n",
      "\n"
     ]
    }
   ],
   "source": [
    "# check the values of the status column\n",
    "user_log_valid.select(\"status\").dropDuplicates().sort(\"status\").show()"
   ]
  },
  {
   "cell_type": "markdown",
   "metadata": {},
   "source": [
    "The status column shows if a page action was valid or not (error-404)."
   ]
  },
  {
   "cell_type": "code",
   "execution_count": 16,
   "metadata": {},
   "outputs": [],
   "source": [
    "# check the session related fields\n",
    "#user_log_valid.select([\"userId\", \"page\", \"sessionId\", \"itemInSession\", \"ts\", \"length\"])\\\n",
    "#    .where(user_log.userId == \"29\")\\\n",
    "#    .orderBy('ts')\\\n",
    "#    .collect()"
   ]
  },
  {
   "cell_type": "markdown",
   "metadata": {},
   "source": [
    "Each time a user accesses the platform the system logs a `sessionId` number, and for each page they access the system logs an `itemInSession` number that increases sequentially."
   ]
  },
  {
   "cell_type": "code",
   "execution_count": 17,
   "metadata": {},
   "outputs": [
    {
     "name": "stdout",
     "output_type": "stream",
     "text": [
      "+--------------------+------------------+\n",
      "|                page|       sum(length)|\n",
      "+--------------------+------------------+\n",
      "|              Cancel|              null|\n",
      "|    Submit Downgrade|              null|\n",
      "|         Thumbs Down|              null|\n",
      "|                Home|              null|\n",
      "|           Downgrade|              null|\n",
      "|         Roll Advert|              null|\n",
      "|              Logout|              null|\n",
      "|       Save Settings|              null|\n",
      "|Cancellation Conf...|              null|\n",
      "|               About|              null|\n",
      "|            Settings|              null|\n",
      "|     Add to Playlist|              null|\n",
      "|          Add Friend|              null|\n",
      "|            NextSong|4351451.4320100015|\n",
      "|           Thumbs Up|              null|\n",
      "|                Help|              null|\n",
      "|             Upgrade|              null|\n",
      "|               Error|              null|\n",
      "|      Submit Upgrade|              null|\n",
      "+--------------------+------------------+\n",
      "\n"
     ]
    }
   ],
   "source": [
    "# check the values of the length column\n",
    "check_length = user_log_valid.select('page', 'length') \\\n",
    "    .dropDuplicates()\\\n",
    "    .groupBy('page') \\\n",
    "    .sum()\n",
    "\n",
    "check_length.show()"
   ]
  },
  {
   "cell_type": "markdown",
   "metadata": {},
   "source": [
    "The `length` column is the time spent on each song - there is no length logged for any other type of action."
   ]
  },
  {
   "cell_type": "code",
   "execution_count": 21,
   "metadata": {},
   "outputs": [
    {
     "name": "stdout",
     "output_type": "stream",
     "text": [
      "+-------+---------+---------+------+--------+------+-----------------+------+--------------------+\n",
      "|summary|     auth|firstName|gender|lastName| level|         location|method|           userAgent|\n",
      "+-------+---------+---------+------+--------+------+-----------------+------+--------------------+\n",
      "|  count|   278154|   278154|278154|  278154|278154|           278154|278154|              278154|\n",
      "|   mean|     null|     null|  null|    null|  null|             null|  null|                null|\n",
      "| stddev|     null|     null|  null|    null|  null|             null|  null|                null|\n",
      "|    min|Cancelled| Adelaida|     F|   Adams|  free|       Albany, OR|   GET|\"Mozilla/5.0 (Mac...|\n",
      "|    max|Logged In|   Zyonna|     M|  Wright|  paid|Winston-Salem, NC|   PUT|Mozilla/5.0 (comp...|\n",
      "+-------+---------+---------+------+--------+------+-----------------+------+--------------------+\n",
      "\n"
     ]
    }
   ],
   "source": [
    "# check the total count for the string fields\n",
    "user_log_valid.describe('auth', 'firstName', 'gender', 'lastName', 'level', 'location', 'method', 'userAgent').show()"
   ]
  },
  {
   "cell_type": "code",
   "execution_count": 18,
   "metadata": {},
   "outputs": [
    {
     "name": "stdout",
     "output_type": "stream",
     "text": [
      "+---------+\n",
      "|     auth|\n",
      "+---------+\n",
      "|Cancelled|\n",
      "|Logged In|\n",
      "+---------+\n",
      "\n",
      "+------+\n",
      "|gender|\n",
      "+------+\n",
      "|     F|\n",
      "|     M|\n",
      "+------+\n",
      "\n",
      "+-----+\n",
      "|level|\n",
      "+-----+\n",
      "| free|\n",
      "| paid|\n",
      "+-----+\n",
      "\n",
      "+------+\n",
      "|method|\n",
      "+------+\n",
      "|   GET|\n",
      "|   PUT|\n",
      "+------+\n",
      "\n"
     ]
    }
   ],
   "source": [
    "# check the values of the string columns\n",
    "string_columns = ['auth', 'gender', 'level', 'method']\n",
    "for each in string_columns:\n",
    "    user_log_valid.select(each).dropDuplicates().sort(each).show()"
   ]
  },
  {
   "cell_type": "markdown",
   "metadata": {},
   "source": [
    "### Define churn\n",
    "We use the `Cancellation Confirmation` action to define churn, which happen for both paid and free users.\n",
    "\n",
    "Churn is set to mark the actions before and including the cancellation action itself. In this way every record of a user that churned will be set to have churn = 1, not just the record with the cancellation action."
   ]
  },
  {
   "cell_type": "code",
   "execution_count": 22,
   "metadata": {},
   "outputs": [],
   "source": [
    "# create a function that flags the 'Cancellation Confirmation' records \n",
    "flag_cancellation_event = udf(lambda x: 1 if x == 'Cancellation Confirmation' else 0, IntegerType())\n",
    "\n",
    "# apply the function to the dataframe\n",
    "# add a column churn to the dataframe to mark the records with a cancellation action\n",
    "user_log_valid = user_log_valid.withColumn('churn', flag_cancellation_event('page'))"
   ]
  },
  {
   "cell_type": "code",
   "execution_count": 23,
   "metadata": {},
   "outputs": [],
   "source": [
    "# partition by userId, order by timestamp in reverse order, get all rows before churn but no rows afterwards\n",
    "windowval = Window.partitionBy('userId').orderBy(desc('ts')).rangeBetween(Window.unboundedPreceding, 0)\n",
    "user_log_valid = user_log_valid.withColumn('churn', Fsum('churn').over(windowval))"
   ]
  },
  {
   "cell_type": "markdown",
   "metadata": {},
   "source": [
    "### Explore Data\n",
    "Explore aggregates of users who stayed vs users who churned, in order to observe the behavior for users who stayed vs users who churned."
   ]
  },
  {
   "cell_type": "markdown",
   "metadata": {},
   "source": [
    "####  Explore users' level (free/paid) for users who stayed vs users who churned"
   ]
  },
  {
   "cell_type": "code",
   "execution_count": 24,
   "metadata": {},
   "outputs": [
    {
     "data": {
      "image/png": "[encoded data removed]",
      "text/plain": [
       "<matplotlib.figure.Figure at 0x7fbb877a1a20>"
      ]
     },
     "metadata": {
      "needs_background": "light"
     },
     "output_type": "display_data"
    },
    {
     "data": {
      "text/html": [
       "<div>\n",
       "<style scoped>\n",
       "    .dataframe tbody tr th:only-of-type {\n",
       "        vertical-align: middle;\n",
       "    }\n",
       "\n",
       "    .dataframe tbody tr th {\n",
       "        vertical-align: top;\n",
       "    }\n",
       "\n",
       "    .dataframe thead tr th {\n",
       "        text-align: left;\n",
       "    }\n",
       "\n",
       "    .dataframe thead tr:last-of-type th {\n",
       "        text-align: right;\n",
       "    }\n",
       "</style>\n",
       "<table border=\"1\" class=\"dataframe\">\n",
       "  <thead>\n",
       "    <tr>\n",
       "      <th></th>\n",
       "      <th colspan=\"2\" halign=\"left\">count</th>\n",
       "    </tr>\n",
       "    <tr>\n",
       "      <th>churn</th>\n",
       "      <th>0</th>\n",
       "      <th>1</th>\n",
       "    </tr>\n",
       "    <tr>\n",
       "      <th>level</th>\n",
       "      <th></th>\n",
       "      <th></th>\n",
       "    </tr>\n",
       "  </thead>\n",
       "  <tbody>\n",
       "    <tr>\n",
       "      <th>free</th>\n",
       "      <td>59</td>\n",
       "      <td>21</td>\n",
       "    </tr>\n",
       "    <tr>\n",
       "      <th>paid</th>\n",
       "      <td>114</td>\n",
       "      <td>31</td>\n",
       "    </tr>\n",
       "  </tbody>\n",
       "</table>\n",
       "</div>"
      ],
      "text/plain": [
       "      count    \n",
       "churn     0   1\n",
       "level          \n",
       "free     59  21\n",
       "paid    114  31"
      ]
     },
     "execution_count": 24,
     "metadata": {},
     "output_type": "execute_result"
    }
   ],
   "source": [
    "# Explore number of distinct users by level (number must sum to 225)\n",
    "churn_by_level = user_log_valid.select('userId', 'level', 'churn') \\\n",
    "    .dropDuplicates(['userId']) \\\n",
    "    .groupby(['level', 'churn']) \\\n",
    "    .count()\n",
    "\n",
    "# turn the PySpark dataframe to a pandas dataframe to visualise the results\n",
    "churn_by_level_pd = churn_by_level.toPandas()\n",
    "# use matplotlib to plot the results\n",
    "churn_by_level_pd.pivot('level','churn').plot(kind='bar', color = ['orange', 'green'])\n",
    "plt.legend(['stay', 'churn'])\n",
    "plt.ylabel('user count')\n",
    "plt.xlabel('level')\n",
    "plt.title('User count by churn and level')\n",
    "plt.show()\n",
    "\n",
    "churn_by_level_pd.pivot('level','churn')"
   ]
  },
  {
   "cell_type": "markdown",
   "metadata": {},
   "source": [
    "####  Explore users' gender (female/male) for users who stayed vs users who churned"
   ]
  },
  {
   "cell_type": "code",
   "execution_count": 27,
   "metadata": {},
   "outputs": [
    {
     "data": {
      "image/png": "[encoded data removed]",
      "text/plain": [
       "<matplotlib.figure.Figure at 0x7fbb70887da0>"
      ]
     },
     "metadata": {
      "needs_background": "light"
     },
     "output_type": "display_data"
    },
    {
     "data": {
      "text/html": [
       "<div>\n",
       "<style scoped>\n",
       "    .dataframe tbody tr th:only-of-type {\n",
       "        vertical-align: middle;\n",
       "    }\n",
       "\n",
       "    .dataframe tbody tr th {\n",
       "        vertical-align: top;\n",
       "    }\n",
       "\n",
       "    .dataframe thead tr th {\n",
       "        text-align: left;\n",
       "    }\n",
       "\n",
       "    .dataframe thead tr:last-of-type th {\n",
       "        text-align: right;\n",
       "    }\n",
       "</style>\n",
       "<table border=\"1\" class=\"dataframe\">\n",
       "  <thead>\n",
       "    <tr>\n",
       "      <th></th>\n",
       "      <th colspan=\"2\" halign=\"left\">count</th>\n",
       "    </tr>\n",
       "    <tr>\n",
       "      <th>churn</th>\n",
       "      <th>0</th>\n",
       "      <th>1</th>\n",
       "    </tr>\n",
       "    <tr>\n",
       "      <th>gender</th>\n",
       "      <th></th>\n",
       "      <th></th>\n",
       "    </tr>\n",
       "  </thead>\n",
       "  <tbody>\n",
       "    <tr>\n",
       "      <th>F</th>\n",
       "      <td>84</td>\n",
       "      <td>20</td>\n",
       "    </tr>\n",
       "    <tr>\n",
       "      <th>M</th>\n",
       "      <td>89</td>\n",
       "      <td>32</td>\n",
       "    </tr>\n",
       "  </tbody>\n",
       "</table>\n",
       "</div>"
      ],
      "text/plain": [
       "       count    \n",
       "churn      0   1\n",
       "gender          \n",
       "F         84  20\n",
       "M         89  32"
      ]
     },
     "execution_count": 27,
     "metadata": {},
     "output_type": "execute_result"
    }
   ],
   "source": [
    "# Explore number of distinct users by gender (number must sum to 225)\n",
    "churn_by_gender = user_log_valid.select('userId', 'gender', 'churn') \\\n",
    "    .dropDuplicates(['userId']) \\\n",
    "    .groupby(['gender', 'churn']) \\\n",
    "    .count()\n",
    "\n",
    "# turn the PySpark dataframe to a pandas dataframe to visualise the results\n",
    "churn_by_gender_pd = churn_by_gender.toPandas()\n",
    "\n",
    "# use matplotlib to plot the results\n",
    "churn_by_gender_pd.pivot('gender','churn').plot(kind='bar', color = ['orange', 'green'])\n",
    "plt.legend(['stay', 'churn'])\n",
    "plt.ylabel('user count')\n",
    "plt.xlabel('gender')\n",
    "plt.title('User count by churn and gender')\n",
    "plt.show()\n",
    "\n",
    "churn_by_gender_pd.pivot('gender','churn')"
   ]
  },
  {
   "cell_type": "markdown",
   "metadata": {},
   "source": [
    "#### Explore the number of days since they registered for users that stayed vs users that churned"
   ]
  },
  {
   "cell_type": "code",
   "execution_count": 28,
   "metadata": {},
   "outputs": [],
   "source": [
    "# source: https://sparkbyexamples.com/spark/spark-calculate-difference-between-two-dates-in-days-months-and-years/\n",
    "# create a function that converts the epoch time to a datetime object and calculates the hour \n",
    "get_date = udf(lambda x: datetime.datetime.fromtimestamp(x / 1000.0).strftime('%Y-%m-%d'))\n",
    "# add the registration date column in the dataframe\n",
    "user_log_valid = user_log_valid.withColumn(\"reg_date\", get_date(user_log_valid.registration))\n",
    "# add the timestamp date column in the dataframe\n",
    "user_log_valid = user_log_valid.withColumn(\"ts_date\", get_date(user_log_valid.ts))\n",
    "#calculate the difference between each ts and the registration date\n",
    "user_log_valid = user_log_valid.withColumn(\"days_since_reg\", datediff(col('ts_date'), col('reg_date')))"
   ]
  },
  {
   "cell_type": "code",
   "execution_count": 29,
   "metadata": {},
   "outputs": [],
   "source": [
    "# calculate the maximum number of days since registration\n",
    "churn_by_days_reg_per_user = user_log_valid.select('userId', 'days_since_reg', 'churn') \\\n",
    "                .groupby(['userId', 'churn']) \\\n",
    "                .agg(max('days_since_reg').alias('max_days_since_reg'))\n",
    "\n",
    "churn_by_days_reg = churn_by_days_reg_per_user.groupby(['churn','max_days_since_reg'])\\\n",
    "                .count()\\\n",
    "                .orderBy('churn', 'max_days_since_reg')\n",
    "                \n",
    "# turn the PySpark dataframe to a pandas dataframe to visualise the results\n",
    "churn_by_days_reg_pd = churn_by_days_reg.toPandas()"
   ]
  },
  {
   "cell_type": "code",
   "execution_count": 30,
   "metadata": {},
   "outputs": [
    {
     "data": {
      "image/png": "[encoded data removed]",
      "text/plain": [
       "<matplotlib.figure.Figure at 0x7fbb70901048>"
      ]
     },
     "metadata": {
      "needs_background": "light"
     },
     "output_type": "display_data"
    }
   ],
   "source": [
    "#source: https://www.statology.org/pandas-histogram-by-group/\n",
    "#define max_days_since_reg values by group\n",
    "A = churn_by_days_reg_pd.loc[churn_by_days_reg_pd['churn'] == 0, 'max_days_since_reg']\n",
    "B = churn_by_days_reg_pd.loc[churn_by_days_reg_pd['churn'] == 1, 'max_days_since_reg']\n",
    "\n",
    "#add two histograms to one plot\n",
    "plt.hist(A, alpha=0.5, label='stay', color = 'orange')\n",
    "plt.hist(B, alpha=0.5, label='churn', color = 'green')\n",
    "\n",
    "#add plot title and axis labels\n",
    "plt.title('Days since registration by churn')\n",
    "plt.xlabel('days since registration')\n",
    "plt.ylabel('frequency')\n",
    "\n",
    "#add legend\n",
    "plt.legend()\n",
    "\n",
    "#display plot\n",
    "plt.show()"
   ]
  },
  {
   "cell_type": "markdown",
   "metadata": {},
   "source": [
    "#### Explore number of songs played per day for users that stayed vs users that churned"
   ]
  },
  {
   "cell_type": "code",
   "execution_count": 31,
   "metadata": {},
   "outputs": [],
   "source": [
    "# source: https://pynative.com/python-get-the-day-of-week/#:~:text=We%20can%20use%20the%20weekday,%2C%2002)%20is%20a%20Monday.\n",
    "# create a function that converts the epoch time to a datetime object and calculates the day name and number \n",
    "get_day = udf(lambda x: datetime.datetime.fromtimestamp(x / 1000.0).strftime('%a'))\n",
    "get_day_num = udf(lambda x: datetime.datetime.fromtimestamp(x / 1000.0).strftime('%w'))\n",
    "\n",
    "# add the day column in the dataframe\n",
    "user_log_valid = user_log_valid.withColumn(\"day\", get_day(user_log_valid.ts))\n",
    "user_log_valid = user_log_valid.withColumn(\"day_num\", get_day_num(user_log_valid.ts))"
   ]
  },
  {
   "cell_type": "code",
   "execution_count": 32,
   "metadata": {},
   "outputs": [
    {
     "data": {
      "image/png": "[encoded data removed]",
      "text/plain": [
       "<matplotlib.figure.Figure at 0x7fbb70810518>"
      ]
     },
     "metadata": {
      "needs_background": "light"
     },
     "output_type": "display_data"
    }
   ],
   "source": [
    "# calculate the number of songs played per day of the week by churn\n",
    "churn_by_songs_in_day = user_log_valid.filter(user_log_valid.page == \"NextSong\")\\\n",
    "                .groupby([user_log_valid.day_num, user_log_valid.churn]).count() \\\n",
    "                .orderBy(user_log_valid.day_num, user_log_valid.churn)\n",
    "\n",
    "# turn the PySpark dataframe to a pandas dataframe to visualise the results\n",
    "churn_by_songs_in_day_pd = churn_by_songs_in_day.toPandas()\n",
    "churn_by_songs_in_day_pd.day_num = pd.to_numeric(churn_by_songs_in_day_pd.day_num)\n",
    "churn_by_songs_in_day_pd.pivot('churn', 'day_num')\n",
    "\n",
    "# use matplotlib to plot the results\n",
    "churn_by_songs_in_day_pd.pivot('day_num','churn').plot(kind='bar', color = ['orange', 'green'])\n",
    "plt.legend(['stay', 'churn'])\n",
    "plt.ylabel('songs played count')\n",
    "plt.xlabel('day')\n",
    "plt.title('songs played by day and by churn')\n",
    "plt.xticks([0, 1, 2, 3, 4, 5, 6], ['Sun', 'Mon', 'Tues', 'Weds', 'Thu', 'Fri', 'Sat'], rotation=20) \n",
    "plt.show()"
   ]
  },
  {
   "cell_type": "markdown",
   "metadata": {},
   "source": [
    "#### Explore number of songs played per hour for users that stayed vs users that churned"
   ]
  },
  {
   "cell_type": "code",
   "execution_count": 33,
   "metadata": {},
   "outputs": [],
   "source": [
    "# create a function that converts the epoch time to a datetime object and calculates the hour \n",
    "get_hour = udf(lambda x: datetime.datetime.fromtimestamp(x / 1000.0). hour)\n",
    "# add the hour column in the dataframe\n",
    "user_log_valid = user_log_valid.withColumn(\"hour\", get_hour(user_log_valid.ts))"
   ]
  },
  {
   "cell_type": "code",
   "execution_count": 34,
   "metadata": {},
   "outputs": [
    {
     "data": {
      "image/png": "[encoded data removed]",
      "text/plain": [
       "<matplotlib.figure.Figure at 0x7fbb7073a160>"
      ]
     },
     "metadata": {
      "needs_background": "light"
     },
     "output_type": "display_data"
    }
   ],
   "source": [
    "# calculate the number of songs played per hour by churn\n",
    "churn_by_songs_in_hour = user_log_valid.filter(user_log_valid.page == \"NextSong\")\\\n",
    "                .groupby([user_log_valid.hour, user_log_valid.churn]).count() \\\n",
    "                .orderBy(user_log_valid.hour.cast(\"float\"), user_log_valid.churn)\n",
    "\n",
    "# turn the PySpark dataframe to a pandas dataframe to visualise the results\n",
    "churn_by_songs_in_hour_pd = churn_by_songs_in_hour.toPandas()\n",
    "churn_by_songs_in_hour_pd.hour = pd.to_numeric(churn_by_songs_in_hour_pd.hour)\n",
    "\n",
    "churn_0 = churn_by_songs_in_hour_pd[churn_by_songs_in_hour_pd['churn'] == 0]\n",
    "churn_0.reset_index(drop=True, inplace = True)\n",
    "churn_1 = churn_by_songs_in_hour_pd[churn_by_songs_in_hour_pd['churn'] == 1]\n",
    "churn_1.reset_index(drop=True, inplace = True)\n",
    "\n",
    "# use matplotlib to plot the results\n",
    "plt.scatter(churn_0['hour'], churn_0['count'], color = \"orange\")\n",
    "plt.scatter(churn_0['hour'], churn_1['count'], color = \"green\")\n",
    "plt.legend(['stay', 'churn'])\n",
    "plt.xlim(-1, 24)\n",
    "plt.xlabel(\"hour\")\n",
    "plt.ylabel(\"songs played count\")\n",
    "plt.title('songs played by hour and by churn');"
   ]
  },
  {
   "cell_type": "markdown",
   "metadata": {},
   "source": [
    "#### Explore the number of page visits (actions) for the users that stayed vs the users that churned"
   ]
  },
  {
   "cell_type": "code",
   "execution_count": 35,
   "metadata": {},
   "outputs": [
    {
     "data": {
      "image/png": "[encoded data removed]",
      "text/plain": [
       "<matplotlib.figure.Figure at 0x7fbb706a9400>"
      ]
     },
     "metadata": {
      "needs_background": "light"
     },
     "output_type": "display_data"
    }
   ],
   "source": [
    "# Explore number of page visits\n",
    "churn_by_page_visits = user_log_valid.select('page', 'churn') \\\n",
    "    .groupby(['page', 'churn']).count() \\\n",
    "    .orderBy(user_log_valid.page, user_log_valid.churn)\n",
    "\n",
    "# turn the PySpark dataframe to a pandas dataframe to visualise the results\n",
    "churn_by_page_visits_pd = churn_by_page_visits.toPandas()\n",
    "churn_by_page_visits_pd.pivot('churn','page')\n",
    "\n",
    "# use matplotlib to plot the results\n",
    "churn_by_page_visits_pd.pivot('page','churn').plot(kind='barh', color = ['orange', 'green'], figsize=(10,7))\n",
    "plt.legend(['stay', 'churn'])\n",
    "plt.xlabel('page view count')\n",
    "plt.ylabel('page')\n",
    "plt.title('Page views by churn')\n",
    "plt.gca().invert_yaxis()\n",
    "plt.show()"
   ]
  },
  {
   "cell_type": "markdown",
   "metadata": {},
   "source": [
    "#### Explore the number of key page visits (actions that are related to usage) for the users that stayed vs the users that churned"
   ]
  },
  {
   "cell_type": "code",
   "execution_count": 36,
   "metadata": {},
   "outputs": [
    {
     "data": {
      "image/png": "[encoded data removed]",
      "text/plain": [
       "<matplotlib.figure.Figure at 0x7fbb705f1278>"
      ]
     },
     "metadata": {
      "needs_background": "light"
     },
     "output_type": "display_data"
    }
   ],
   "source": [
    "# Explore number of key page visits\n",
    "key_pages = ['Thumbs Up', 'Thumbs Down', 'Add Friend', 'Add to Playlist', 'Roll Advert']\n",
    "churn_by_key_page_visits = user_log_valid.select('userId', 'page', 'churn') \\\n",
    "    .filter(user_log_valid.page.isin(key_pages)) \\\n",
    "    .groupby(['page', 'churn']).count() \\\n",
    "    .orderBy(user_log_valid.page, user_log_valid.churn)\n",
    "\n",
    "# turn the PySpark dataframe to a pandas dataframe to visualise the results\n",
    "churn_by_key_page_visits_pd = churn_by_key_page_visits.toPandas()\n",
    "churn_by_key_page_visits_pd.pivot('churn','page')\n",
    "\n",
    "# use matplotlib to plot the results\n",
    "churn_by_key_page_visits_pd.pivot('page','churn').plot(kind='bar', color = ['orange', 'green'])\n",
    "plt.legend(['stay', 'churn'])\n",
    "plt.ylabel('page view count')\n",
    "plt.xlabel('page')\n",
    "plt.title('Page views by churn')\n",
    "plt.xticks(rotation=20)\n",
    "plt.show()"
   ]
  },
  {
   "cell_type": "markdown",
   "metadata": {},
   "source": [
    "#### Explore the ratio of key page visits (actions) per number of songs played, for users that stayed vs users that churned"
   ]
  },
  {
   "cell_type": "code",
   "execution_count": 37,
   "metadata": {},
   "outputs": [],
   "source": [
    "# create a function to flag each key action \n",
    "flag_song = udf(lambda x: 1 if x == \"NextSong\" else 0, IntegerType())\n",
    "flag_thumbs_up = udf(lambda x: 1 if x == \"Thumbs Up\" else 0, IntegerType())\n",
    "flag_thumbs_down = udf(lambda x: 1 if x == \"Thumbs Down\" else 0, IntegerType())\n",
    "flag_add_friend = udf(lambda x: 1 if x == \"Add Friend\" else 0, IntegerType())\n",
    "flag_add_to_playlist = udf(lambda x: 1 if x == \"Add to Playlist\" else 0, IntegerType())\n",
    "flag_roll_advert = udf(lambda x: 1 if x == \"Roll Advert\" else 0, IntegerType())\n",
    "\n",
    "\n",
    "# add a column that flags if a record is related to a key action\n",
    "user_log_valid = user_log_valid.withColumn(\"song_page\", flag_song(user_log_valid.page))\n",
    "user_log_valid = user_log_valid.withColumn(\"thumbs_up\", flag_thumbs_up(user_log_valid.page))\n",
    "user_log_valid = user_log_valid.withColumn(\"thumbs_down\", flag_thumbs_down(user_log_valid.page))\n",
    "user_log_valid = user_log_valid.withColumn(\"add_friend\", flag_add_friend(user_log_valid.page))\n",
    "user_log_valid = user_log_valid.withColumn(\"add_to_playlist\", flag_add_to_playlist(user_log_valid.page))\n",
    "user_log_valid = user_log_valid.withColumn(\"roll_advert\", flag_add_to_playlist(user_log_valid.page))"
   ]
  },
  {
   "cell_type": "code",
   "execution_count": 38,
   "metadata": {},
   "outputs": [
    {
     "data": {
      "image/png": "[encoded data removed]",
      "text/plain": [
       "<matplotlib.figure.Figure at 0x7fbb7043cdd8>"
      ]
     },
     "metadata": {
      "needs_background": "light"
     },
     "output_type": "display_data"
    }
   ],
   "source": [
    "# calculate the ratio of number each action per number of songs played\n",
    "churn_by_actions_per_song = user_log_valid.select('churn', 'song', 'thumbs_up', 'thumbs_down', 'add_friend', 'add_to_playlist', 'roll_advert' ) \\\n",
    "                .groupby('churn') \\\n",
    "                .agg(count('song').alias('num_songs'),\\\n",
    "                     (sum('add_friend')/count('song')).alias('add_friend ratio'),\\\n",
    "                     (sum('add_to_playlist')/count('song')).alias('add_to_playlist_ratio'),\\\n",
    "                     (sum('roll_advert')/count('song')).alias('roll_advert_ratio'),\\\n",
    "                     (sum('thumbs_down')/count('song')).alias('thumbs_down_ratio'),\\\n",
    "                     (sum('thumbs_up')/count('song')).alias('thumbs_up_ratio'))\n",
    "                     \n",
    "# turn the PySpark dataframe to a pandas dataframe to visualise the results\n",
    "churn_by_actions_per_song_pd = churn_by_actions_per_song.toPandas().transpose()\n",
    "churn_by_actions_per_song_pd = churn_by_actions_per_song_pd.drop(['churn','num_songs'])\n",
    "\n",
    "# use matplotlib to plot the results\n",
    "churn_by_actions_per_song_pd.plot(kind='bar', color = ['orange', 'green'])\n",
    "plt.legend(['stay', 'churn'])\n",
    "plt.xlabel('action')\n",
    "plt.ylabel('action ratio')\n",
    "plt.title('Ratio of actions per number of songs played by churn')\n",
    "plt.xticks(rotation=20) #['Add Friend Ratio', 'Add to Playlist Ratio', 'Roll Advert Ratio', 'Thumbs Down Ratio', 'Thumbs Up Ratio'],\n",
    "plt.show()"
   ]
  },
  {
   "cell_type": "markdown",
   "metadata": {},
   "source": [
    "# Feature Engineering\n",
    "Once you've familiarized yourself with the data, build out the features you find promising to train your model on. To work with the full dataset, you can follow the following steps.\n",
    "- Write a script to extract the necessary features from the smaller subset of data\n",
    "- Ensure that your script is scalable, using the best practices discussed in Lesson 3\n",
    "- Try your script on the full data set, debugging your script if necessary\n",
    "\n",
    "If you are working in the classroom workspace, you can just extract features based on the small subset of data contained here. Be sure to transfer over this work to the larger dataset when you work on your Spark cluster."
   ]
  },
  {
   "cell_type": "code",
   "execution_count": 39,
   "metadata": {},
   "outputs": [
    {
     "name": "stdout",
     "output_type": "stream",
     "text": [
      "+------+-----+-----+------+----------+---------+\n",
      "|userId|churn|level|gender|gender_num|level_num|\n",
      "+------+-----+-----+------+----------+---------+\n",
      "|100010|    0| free|     F|         1|        0|\n",
      "|200002|    0| paid|     M|         0|        1|\n",
      "|   125|    1| free|     M|         0|        0|\n",
      "|   124|    0| paid|     F|         1|        1|\n",
      "|    51|    1| paid|     M|         0|        1|\n",
      "+------+-----+-----+------+----------+---------+\n",
      "only showing top 5 rows\n",
      "\n",
      "There are 225 rows.\n"
     ]
    }
   ],
   "source": [
    "# source https://stackoverflow.com/questions/61349294/get-row-corresponding-to-latest-timestamp-in-pyspark\n",
    "# Calculate the latest record per user and get the churn, level and gender\n",
    "\n",
    "user_window = Window.partitionBy('userID').orderBy(col('ts').desc())\n",
    "\n",
    "latest_status = user_log_valid.select('userId','churn','level', 'gender', 'ts')\\\n",
    "                .withColumn('rn', row_number().over(user_window))\\\n",
    "                .filter(col('rn') == 1)\\\n",
    "                .drop('rn')\\\n",
    "                .drop('ts')\n",
    "\n",
    "latest_status = latest_status.withColumn(\"gender_num\", \\\n",
    "                when(col(\"gender\")=='M', 0)\\\n",
    "                .when(col(\"gender\")=='F', 1).otherwise(0)) \n",
    "\n",
    "\n",
    "latest_status = latest_status.withColumn(\"level_num\", \\\n",
    "                       when(col(\"level\")=='free', 0)\\\n",
    "                       .when(col(\"level\")=='paid', 1).otherwise(0))\n",
    "\n",
    "latest_status.show(5)\n",
    "print(f\"There are {latest_status.count()} rows.\")"
   ]
  },
  {
   "cell_type": "code",
   "execution_count": 40,
   "metadata": {},
   "outputs": [
    {
     "name": "stdout",
     "output_type": "stream",
     "text": [
      "+------+--------------+------------+------------------+-----------+\n",
      "|userId|unique_artists|unique_songs|      total_length|total_pages|\n",
      "+------+--------------+------------+------------------+-----------+\n",
      "|100010|           252|         269| 66940.89735000003|        381|\n",
      "|200002|           339|         378| 94008.87593999993|        474|\n",
      "|   125|             8|           8|2089.1131000000005|         11|\n",
      "|    51|          1385|        1854| 523275.8428000004|       2464|\n",
      "|   124|          2232|        3339|1012312.0927899999|       4825|\n",
      "+------+--------------+------------+------------------+-----------+\n",
      "only showing top 5 rows\n",
      "\n",
      "There are 225 rows.\n"
     ]
    }
   ],
   "source": [
    "# Calculate the number of unique artists, unique songs, total length of songs played, total pages viewed\n",
    "usage = user_log_valid.select('userId', 'artist', 'song', 'length', 'page') \\\n",
    "    .groupby('userId') \\\n",
    "    .agg(countDistinct('artist').alias('unique_artists'),\\\n",
    "         countDistinct('song').alias('unique_songs'),\\\n",
    "         sum('length').alias('total_length'), \\\n",
    "         count('page').alias('total_pages'))\n",
    "\n",
    "usage.show(5)\n",
    "print(f\"There are {usage.count()} rows.\")"
   ]
  },
  {
   "cell_type": "code",
   "execution_count": 41,
   "metadata": {},
   "outputs": [
    {
     "name": "stdout",
     "output_type": "stream",
     "text": [
      "+------+--------------+------------------+------------------+\n",
      "|userId|total_sessions|avg_itemsInSession|avg_songsInSession|\n",
      "+------+--------------+------------------+------------------+\n",
      "|100010|             7| 54.42857142857143|39.285714285714285|\n",
      "|200002|             6|              79.0|              64.5|\n",
      "|   125|             1|              11.0|               8.0|\n",
      "|    51|            10|             246.4|             211.1|\n",
      "|   124|            29| 166.3793103448276| 140.6551724137931|\n",
      "+------+--------------+------------------+------------------+\n",
      "only showing top 5 rows\n",
      "\n",
      "There are 225 rows.\n"
     ]
    }
   ],
   "source": [
    "# Calculate the number of sessions, and the avg number of actions per session\n",
    "sessions = user_log_valid.select('userId', 'sessionId', 'itemInSession', 'song') \\\n",
    "    .groupby('userId') \\\n",
    "    .agg(countDistinct('sessionId').alias('total_sessions'),\\\n",
    "         (count('itemInSession')/countDistinct('sessionId')).alias('avg_itemsInSession'),\\\n",
    "         (count('song')/countDistinct('sessionId')).alias('avg_songsInSession'))\n",
    "\n",
    "sessions.show(5)\n",
    "print(f\"There are {sessions.count()} rows.\")"
   ]
  },
  {
   "cell_type": "code",
   "execution_count": 43,
   "metadata": {},
   "outputs": [],
   "source": [
    "#check for a specific user\n",
    "#user_log_valid.select(['userId', 'page', 'artist', 'song'])\\\n",
    "#                .where(user_log_valid.userId=='125').sort('page').collect()"
   ]
  },
  {
   "cell_type": "code",
   "execution_count": 44,
   "metadata": {},
   "outputs": [
    {
     "name": "stdout",
     "output_type": "stream",
     "text": [
      "+------+------------------+\n",
      "|userId|max_days_since_reg|\n",
      "+------+------------------+\n",
      "|100010|                55|\n",
      "|200002|                70|\n",
      "|   125|                72|\n",
      "|    51|                20|\n",
      "|   124|               131|\n",
      "+------+------------------+\n",
      "only showing top 5 rows\n",
      "\n",
      "There are 225 rows.\n"
     ]
    }
   ],
   "source": [
    "# Calculate the number of days between the registration and the last user action \n",
    "days_since_registration = user_log_valid.select('userId', 'days_since_reg') \\\n",
    "                .groupby(['userId']) \\\n",
    "                .agg(max('days_since_reg').alias('max_days_since_reg'))\n",
    "\n",
    "days_since_registration.show(5)\n",
    "print(f\"There are {days_since_registration.count()} rows.\")"
   ]
  },
  {
   "cell_type": "code",
   "execution_count": 45,
   "metadata": {},
   "outputs": [],
   "source": [
    "# check for a specific user\n",
    "#user_log_valid.select(['userId','ts_date', 'reg_date', 'days_since_reg'])\\\n",
    "#                .where(user_log_valid.userId=='125').sort(col('days_since_reg').desc()).collect()"
   ]
  },
  {
   "cell_type": "code",
   "execution_count": 47,
   "metadata": {},
   "outputs": [
    {
     "name": "stdout",
     "output_type": "stream",
     "text": [
      "+------+------------------+\n",
      "|userId| avg_songs_per_day|\n",
      "+------+------------------+\n",
      "|    10|            168.25|\n",
      "|   100|383.14285714285717|\n",
      "|100001|              66.5|\n",
      "|100002|             48.75|\n",
      "|100003|              25.5|\n",
      "+------+------------------+\n",
      "only showing top 5 rows\n",
      "\n",
      "There are 225 rows.\n"
     ]
    }
   ],
   "source": [
    "# Calculate the average number of songs played per day per user\n",
    "\n",
    "# number of songs per day\n",
    "songs_per_day = user_log_valid.filter(user_log_valid.page == \"NextSong\")\\\n",
    "                .groupby(['userId', 'day_num']) \\\n",
    "                .count() \\\n",
    "                .orderBy('userId', user_log_valid.day_num.cast(\"float\"))\n",
    "\n",
    "\n",
    "# calculate the average songs per day per user\n",
    "avg_songs_per_day = songs_per_day.groupby('userId')\\\n",
    "                    .agg(avg('count')\\\n",
    "                    .alias('avg_songs_per_day'))\\\n",
    "                    .orderBy('userId')\n",
    "\n",
    "avg_songs_per_day.show(5)\n",
    "print(f\"There are {avg_songs_per_day.count()} rows.\")"
   ]
  },
  {
   "cell_type": "code",
   "execution_count": 46,
   "metadata": {
    "scrolled": true
   },
   "outputs": [
    {
     "name": "stdout",
     "output_type": "stream",
     "text": [
      "+------+------------------+\n",
      "|userId|avg_songs_per_hour|\n",
      "+------+------------------+\n",
      "|    10|28.041666666666668|\n",
      "|   100|            111.75|\n",
      "|100001|11.083333333333334|\n",
      "|100002|              15.0|\n",
      "|100003|             12.75|\n",
      "+------+------------------+\n",
      "only showing top 5 rows\n",
      "\n",
      "There are 225 rows.\n"
     ]
    }
   ],
   "source": [
    "# Calculate the average number of songs played per hour per user\n",
    "\n",
    "# number of songs played per hour per user\n",
    "songs_per_hour = user_log_valid.filter(user_log_valid.page == \"NextSong\")\\\n",
    "                .groupby(['userId', 'hour']) \\\n",
    "                .count() \\\n",
    "                .orderBy('userId', user_log_valid.hour.cast(\"float\"))\n",
    "\n",
    "\n",
    "# calculate the average songs per hour per user\n",
    "avg_songs_per_hour = songs_per_hour.groupby('userId')\\\n",
    "                    .agg(avg('count').alias('avg_songs_per_hour'))\\\n",
    "                    .orderBy('userId')\n",
    "\n",
    "avg_songs_per_hour.show(5)\n",
    "print(f\"There are {avg_songs_per_hour.count()} rows.\")"
   ]
  },
  {
   "cell_type": "code",
   "execution_count": 48,
   "metadata": {
    "scrolled": true
   },
   "outputs": [
    {
     "name": "stdout",
     "output_type": "stream",
     "text": [
      "There are 225 rows.\n"
     ]
    },
    {
     "data": {
      "text/plain": [
       "Row(userId='10', num_songs=673, num_thumbs_up=37, num_thumbs_down=4, num_add_friend=12, num_add_to_playlist=9, num_roll_advert=9, thumbs_up_ratio=0.0549777117384844, thumbs_down_ratio=0.005943536404160475, add_friend_ratio=0.017830609212481426, add_to_playlist_ratio=0.01337295690936107, roll_advert_ratio=0.01337295690936107)"
      ]
     },
     "execution_count": 48,
     "metadata": {},
     "output_type": "execute_result"
    }
   ],
   "source": [
    "# Calculate the ratio of number each action per number of songs played\n",
    "actions_songs_ratio = user_log_valid.select('userId', 'song', 'thumbs_up', 'thumbs_down', 'add_friend', 'add_to_playlist', 'roll_advert' ) \\\n",
    "                .groupby('userId') \\\n",
    "                .agg(count('song').alias('num_songs'),\\\n",
    "                     sum('thumbs_up').alias('num_thumbs_up'),\\\n",
    "                     sum('thumbs_down').alias('num_thumbs_down'),\\\n",
    "                     sum('add_friend').alias('num_add_friend'),\\\n",
    "                     sum('add_to_playlist').alias('num_add_to_playlist'),\\\n",
    "                     sum('roll_advert').alias('num_roll_advert'))\\\n",
    "                .withColumn('thumbs_up_ratio', (col('num_thumbs_up') / col('num_songs')))\\\n",
    "                .withColumn('thumbs_down_ratio', (col('num_thumbs_down') / col('num_songs')))\\\n",
    "                .withColumn('add_friend_ratio', (col('num_add_friend') / col('num_songs')))\\\n",
    "                .withColumn('add_to_playlist_ratio', (col('num_add_to_playlist') / col('num_songs')))\\\n",
    "                .withColumn('roll_advert_ratio', (col('num_roll_advert') / col('num_songs')))\\\n",
    "                .orderBy('userId')\n",
    "\n",
    "print(f\"There are {actions_songs_ratio.count()} rows.\")\n",
    "actions_songs_ratio.head()"
   ]
  },
  {
   "cell_type": "code",
   "execution_count": 49,
   "metadata": {
    "scrolled": true
   },
   "outputs": [
    {
     "name": "stdout",
     "output_type": "stream",
     "text": [
      "There are 225 rows.\n"
     ]
    },
    {
     "data": {
      "text/plain": [
       "Row(userId='100010', churn=0, level='free', gender='F', gender_num=1, level_num=0, unique_artists=252, unique_songs=269, total_length=66940.89735000003, total_pages=381, total_sessions=7, avg_itemsInSession=54.42857142857143, avg_songsInSession=39.285714285714285, max_days_since_reg=55, avg_songs_per_hour=16.176470588235293, avg_songs_per_day=55.0, num_songs=275, num_thumbs_up=17, num_thumbs_down=5, num_add_friend=4, num_add_to_playlist=7, num_roll_advert=7, thumbs_up_ratio=0.06181818181818182, thumbs_down_ratio=0.01818181818181818, add_friend_ratio=0.014545454545454545, add_to_playlist_ratio=0.025454545454545455, roll_advert_ratio=0.025454545454545455)"
      ]
     },
     "execution_count": 49,
     "metadata": {},
     "output_type": "execute_result"
    }
   ],
   "source": [
    "# source: https://sparkbyexamples.com/pyspark/pyspark-join-two-or-multiple-dataframes/\n",
    "#Join Multiple DataFrames to form the dataframe for the label and features\n",
    "label_features = latest_status.join(usage , ['userId']) \\\n",
    "                .join(sessions, ['userId']) \\\n",
    "                .join(days_since_registration, ['userId']) \\\n",
    "                .join(avg_songs_per_hour, ['userId']) \\\n",
    "                .join(avg_songs_per_day, ['userId']) \\\n",
    "                .join(actions_songs_ratio, ['userId'])\n",
    "\n",
    "print(f\"There are {label_features.count()} rows.\")\n",
    "label_features.head()"
   ]
  },
  {
   "cell_type": "code",
   "execution_count": 50,
   "metadata": {},
   "outputs": [
    {
     "name": "stdout",
     "output_type": "stream",
     "text": [
      "root\n",
      " |-- label: long (nullable = true)\n",
      " |-- gender_num: integer (nullable = false)\n",
      " |-- level_num: integer (nullable = false)\n",
      " |-- unique_artists: long (nullable = false)\n",
      " |-- unique_songs: long (nullable = false)\n",
      " |-- total_length: double (nullable = true)\n",
      " |-- total_pages: long (nullable = false)\n",
      " |-- total_sessions: long (nullable = false)\n",
      " |-- avg_itemsInSession: double (nullable = true)\n",
      " |-- avg_songsInSession: double (nullable = true)\n",
      " |-- max_days_since_reg: integer (nullable = true)\n",
      " |-- avg_songs_per_hour: double (nullable = true)\n",
      " |-- avg_songs_per_day: double (nullable = true)\n",
      " |-- num_songs: long (nullable = false)\n",
      " |-- num_thumbs_up: long (nullable = true)\n",
      " |-- num_thumbs_down: long (nullable = true)\n",
      " |-- num_add_friend: long (nullable = true)\n",
      " |-- num_add_to_playlist: long (nullable = true)\n",
      " |-- num_roll_advert: long (nullable = true)\n",
      " |-- thumbs_up_ratio: double (nullable = true)\n",
      " |-- thumbs_down_ratio: double (nullable = true)\n",
      " |-- add_friend_ratio: double (nullable = true)\n",
      " |-- add_to_playlist_ratio: double (nullable = true)\n",
      " |-- roll_advert_ratio: double (nullable = true)\n",
      "\n"
     ]
    }
   ],
   "source": [
    "# rename churn to label and remove any columns we don't need\n",
    "ml_data = label_features.withColumnRenamed('churn','label').drop('userId','level', 'gender')\n",
    "\n",
    "# check the datatype of all the columns of the dataset for the machine learning modeling\n",
    "ml_data.printSchema()"
   ]
  },
  {
   "cell_type": "markdown",
   "metadata": {},
   "source": [
    "# Modeling\n",
    "Split the full dataset into train, test, and validation sets. Test out several of the machine learning methods you learned. Evaluate the accuracy of the various models, tuning parameters as necessary. Determine your winning model based on test accuracy and report results on the validation set. Since the churned users are a fairly small subset, I suggest using F1 score as the metric to optimize."
   ]
  },
  {
   "cell_type": "code",
   "execution_count": 103,
   "metadata": {
    "scrolled": true
   },
   "outputs": [
    {
     "name": "stdout",
     "output_type": "stream",
     "text": [
      "label: label\n",
      "features: ['gender_num', 'level_num', 'unique_artists', 'unique_songs', 'total_length', 'total_pages', 'total_sessions', 'avg_itemsInSession', 'avg_songsInSession', 'max_days_since_reg', 'avg_songs_per_hour', 'avg_songs_per_day', 'num_songs', 'num_thumbs_up', 'num_thumbs_down', 'num_add_friend', 'num_add_to_playlist', 'num_roll_advert', 'thumbs_up_ratio', 'thumbs_down_ratio', 'add_friend_ratio', 'add_to_playlist_ratio', 'roll_advert_ratio']\n"
     ]
    }
   ],
   "source": [
    "# check the label and features colums\n",
    "label = ml_data.columns[0]\n",
    "print(f\"label: {label}\")\n",
    "features = ml_data.columns[1:]\n",
    "print(f\"features: {features}\")"
   ]
  },
  {
   "cell_type": "code",
   "execution_count": 104,
   "metadata": {},
   "outputs": [],
   "source": [
    "def build_model_cv(model, paramGrid, features, data):\n",
    "    '''\n",
    "    Builds a classification model using a pipeline with the following stages:\n",
    "    1) VectorAssembler, to generate a vector with all the numeric features\n",
    "    2) StandardScaler, to scale the numeric features\n",
    "    3) model, a classification algorithm\n",
    "    It performs hyperparameter tuning using 3-fold cross validation with a \n",
    "    parameter grid to test different parameters to optimize the model.\n",
    "    It uses a MulticlassClassificationEvaluator evaluator to produce evaluation metrics.\n",
    "    \n",
    "    INPUT \n",
    "    model - a classification model\n",
    "    paramGrid - a set of hyperparameters to test the model with\n",
    "    features - a list with the columns that are used for the features\n",
    "    data - the dataframe with the label and the features\n",
    "        \n",
    "    OUTPUT\n",
    "    crossval - a cross validated classification model\n",
    "    '''    \n",
    "    print(\"Building model...\")\n",
    "    # set up the pipeline\n",
    "    assembler = VectorAssembler(inputCols=features, outputCol='NumFeatures')\n",
    "    scaler = StandardScaler(inputCol='NumFeatures', outputCol='features', withStd=True, withMean=True)\n",
    "    pipeline = Pipeline(stages=[assembler, scaler, model])\n",
    "    \n",
    "    # set up the cross validation\n",
    "    crossval = CrossValidator(estimator=pipeline,\n",
    "                              estimatorParamMaps=paramGrid,\n",
    "                              evaluator=MulticlassClassificationEvaluator(),\n",
    "                              numFolds=3)\n",
    "    print(\"Building model complete.\")\n",
    "\n",
    "    return crossval"
   ]
  },
  {
   "cell_type": "code",
   "execution_count": 105,
   "metadata": {},
   "outputs": [],
   "source": [
    "def train_model_cv(model, data):\n",
    "    '''\n",
    "    Trains a classification model.\n",
    "    \n",
    "    INPUT \n",
    "    model - a classification model\n",
    "    data - the dataframe with the label and the features used for training\n",
    "        \n",
    "    OUTPUT\n",
    "    cvModel - a trained classification model\n",
    "    '''\n",
    "    \n",
    "    print(\"Training model...\")\n",
    "    trained_model = model.fit(data)\n",
    "    print(\"Training model complete.\")\n",
    "    \n",
    "    return trained_model"
   ]
  },
  {
   "cell_type": "code",
   "execution_count": 106,
   "metadata": {},
   "outputs": [],
   "source": [
    "# source: https://spark.apache.org/docs/latest/api/python/reference/api/pyspark.ml.evaluation.MulticlassClassificationEvaluator.html\n",
    "# source: https://stackoverflow.com/questions/64090386/get-all-evaluation-metrics-after-classification-in-pyspark\n",
    "def evaluate_model(model, data, case):\n",
    "    '''\n",
    "    Prints out a set of evaluation metrics (accuracy, f1-score, presision, recall) and\n",
    "    returns the predictions.\n",
    "    \n",
    "    INPUT \n",
    "    cvModel - a trained classification model\n",
    "    data - the dataframe with the label and the features used for validation\n",
    "    case - states the algorithm and if the evaluation is done on test or validation data\n",
    "        \n",
    "    OUTPUT\n",
    "    preds - a dataset with the predictions\n",
    "    metrics - a dataset with the evaluated metrics\n",
    "    '''\n",
    "    \n",
    "    print(\"Evaluating model...\")\n",
    "    preds = model.transform(data)\n",
    "    \n",
    "    evaluator = MulticlassClassificationEvaluator(predictionCol=\"prediction\", labelCol=\"label\")\n",
    "    \n",
    "    accuracy = evaluator.evaluate(preds, {evaluator.metricName: \"accuracy\"})\n",
    "    f1_score = evaluator.evaluate(preds, {evaluator.metricName: \"f1\"})\n",
    "    precision = evaluator.evaluate(preds, {evaluator.metricName: \"weightedPrecision\"})\n",
    "    recall = evaluator.evaluate(preds, {evaluator.metricName: \"weightedRecall\"})\n",
    "    \n",
    "    metrics = pd.DataFrame([[case, accuracy,f1_score,precision,recall]],columns=['case','accuracy','f1_score','precision','recall'])\n",
    "    \n",
    "    print(\"Evaluating model complete.\")\n",
    "    \n",
    "    return preds, metrics"
   ]
  },
  {
   "cell_type": "code",
   "execution_count": 107,
   "metadata": {},
   "outputs": [],
   "source": [
    "# Split the data into train (80%), test (20%)\n",
    "train, test = ml_data.randomSplit([0.8, 0.2], seed=42)\n",
    "\n",
    "# Split the data into train (60%), rest (40%)\n",
    "#train, rest = ml_data.randomSplit([0.6, 0.4], seed=42)\n",
    "\n",
    "# Split the rest data into test (20%), validation (20%)\n",
    "#test, validation = rest.randomSplit([0.5, 0.5], seed=42)"
   ]
  },
  {
   "cell_type": "markdown",
   "metadata": {},
   "source": [
    "#### 1 -  Logistic Regression "
   ]
  },
  {
   "cell_type": "code",
   "execution_count": 108,
   "metadata": {
    "scrolled": true
   },
   "outputs": [
    {
     "name": "stdout",
     "output_type": "stream",
     "text": [
      "Building model...\n",
      "Building model complete.\n",
      "Training model...\n",
      "Training model complete.\n"
     ]
    }
   ],
   "source": [
    "# set up the classification model\n",
    "lr_model = LogisticRegression(maxIter=10, elasticNetParam=0, featuresCol=\"features\", labelCol=\"label\")\n",
    "\n",
    "# set up the parameter grid\n",
    "lr_paramGrid = ParamGridBuilder()\\\n",
    "            .addGrid(lr_model.regParam,[0.0, 0.1])\\\n",
    "            .build()\n",
    "\n",
    "# build the cross validation model\n",
    "lr_crossval = build_model_cv(lr_model, lr_paramGrid, features, ml_data)\n",
    "\n",
    "# train the model\n",
    "lr_cvModel = train_model_cv(lr_crossval, train)"
   ]
  },
  {
   "cell_type": "code",
   "execution_count": 109,
   "metadata": {},
   "outputs": [
    {
     "name": "stdout",
     "output_type": "stream",
     "text": [
      "Evaluating model...\n",
      "Evaluating model complete.\n"
     ]
    },
    {
     "data": {
      "text/html": [
       "<div>\n",
       "<style scoped>\n",
       "    .dataframe tbody tr th:only-of-type {\n",
       "        vertical-align: middle;\n",
       "    }\n",
       "\n",
       "    .dataframe tbody tr th {\n",
       "        vertical-align: top;\n",
       "    }\n",
       "\n",
       "    .dataframe thead th {\n",
       "        text-align: right;\n",
       "    }\n",
       "</style>\n",
       "<table border=\"1\" class=\"dataframe\">\n",
       "  <thead>\n",
       "    <tr style=\"text-align: right;\">\n",
       "      <th></th>\n",
       "      <th>case</th>\n",
       "      <th>accuracy</th>\n",
       "      <th>f1_score</th>\n",
       "      <th>precision</th>\n",
       "      <th>recall</th>\n",
       "    </tr>\n",
       "  </thead>\n",
       "  <tbody>\n",
       "    <tr>\n",
       "      <th>0</th>\n",
       "      <td>lr-train</td>\n",
       "      <td>0.816754</td>\n",
       "      <td>0.788772</td>\n",
       "      <td>0.79903</td>\n",
       "      <td>0.816754</td>\n",
       "    </tr>\n",
       "  </tbody>\n",
       "</table>\n",
       "</div>"
      ],
      "text/plain": [
       "       case  accuracy  f1_score  precision    recall\n",
       "0  lr-train  0.816754  0.788772    0.79903  0.816754"
      ]
     },
     "execution_count": 109,
     "metadata": {},
     "output_type": "execute_result"
    }
   ],
   "source": [
    "# evaluate the model using the train data\n",
    "lr_trainpreds, lr_trainmetrics = evaluate_model(lr_cvModel, train, 'lr-train')\n",
    "\n",
    "lr_trainmetrics"
   ]
  },
  {
   "cell_type": "markdown",
   "metadata": {},
   "source": [
    "#### 2 - Random Forest Classifier"
   ]
  },
  {
   "cell_type": "code",
   "execution_count": 110,
   "metadata": {
    "scrolled": true
   },
   "outputs": [
    {
     "name": "stdout",
     "output_type": "stream",
     "text": [
      "Building model...\n",
      "Building model complete.\n",
      "Training model...\n",
      "Training model complete.\n"
     ]
    }
   ],
   "source": [
    "# set up the classification model\n",
    "rf_model = RandomForestClassifier(featuresCol=\"features\", labelCol=\"label\")\n",
    "\n",
    "# set up the parameter grid\n",
    "rf_paramGrid = ParamGridBuilder()\\\n",
    "            .addGrid(rf_model.maxDepth,[10, 20])\\\n",
    "            .addGrid(rf_model.numTrees,[10, 20])\\\n",
    "            .build()\n",
    "\n",
    "# build the cross validation model\n",
    "rf_crossval = build_model_cv(rf_model, rf_paramGrid, features, ml_data)\n",
    "\n",
    "# train the model\n",
    "rf_cvModel = train_model_cv(rf_crossval, train)"
   ]
  },
  {
   "cell_type": "code",
   "execution_count": 111,
   "metadata": {},
   "outputs": [
    {
     "name": "stdout",
     "output_type": "stream",
     "text": [
      "Evaluating model...\n",
      "Evaluating model complete.\n"
     ]
    },
    {
     "data": {
      "text/html": [
       "<div>\n",
       "<style scoped>\n",
       "    .dataframe tbody tr th:only-of-type {\n",
       "        vertical-align: middle;\n",
       "    }\n",
       "\n",
       "    .dataframe tbody tr th {\n",
       "        vertical-align: top;\n",
       "    }\n",
       "\n",
       "    .dataframe thead th {\n",
       "        text-align: right;\n",
       "    }\n",
       "</style>\n",
       "<table border=\"1\" class=\"dataframe\">\n",
       "  <thead>\n",
       "    <tr style=\"text-align: right;\">\n",
       "      <th></th>\n",
       "      <th>case</th>\n",
       "      <th>accuracy</th>\n",
       "      <th>f1_score</th>\n",
       "      <th>precision</th>\n",
       "      <th>recall</th>\n",
       "    </tr>\n",
       "  </thead>\n",
       "  <tbody>\n",
       "    <tr>\n",
       "      <th>0</th>\n",
       "      <td>rf-train</td>\n",
       "      <td>0.973822</td>\n",
       "      <td>0.97321</td>\n",
       "      <td>0.974672</td>\n",
       "      <td>0.973822</td>\n",
       "    </tr>\n",
       "  </tbody>\n",
       "</table>\n",
       "</div>"
      ],
      "text/plain": [
       "       case  accuracy  f1_score  precision    recall\n",
       "0  rf-train  0.973822   0.97321   0.974672  0.973822"
      ]
     },
     "execution_count": 111,
     "metadata": {},
     "output_type": "execute_result"
    }
   ],
   "source": [
    "# evaluate the model using the train data\n",
    "rf_trainpreds, rf_trainmetrics = evaluate_model(rf_cvModel, train, 'rf-train')\n",
    "\n",
    "rf_trainmetrics"
   ]
  },
  {
   "cell_type": "markdown",
   "metadata": {},
   "source": [
    "#### 3 - Decision Tree Classifier"
   ]
  },
  {
   "cell_type": "code",
   "execution_count": 117,
   "metadata": {
    "scrolled": false
   },
   "outputs": [
    {
     "name": "stdout",
     "output_type": "stream",
     "text": [
      "Building model...\n",
      "Building model complete.\n",
      "Training model...\n",
      "Training model complete.\n"
     ]
    }
   ],
   "source": [
    "# set up the classification model\n",
    "dt_model = DecisionTreeClassifier(featuresCol=\"features\", labelCol=\"label\")\n",
    "\n",
    "# set up the parameter grid\n",
    "dt_paramGrid = ParamGridBuilder()\\\n",
    "            .addGrid(dt_model.maxDepth,[5,10,20])\\\n",
    "            .build()\n",
    "\n",
    "# build the cross validation model\n",
    "dt_crossval = build_model_cv(dt_model, dt_paramGrid, features, ml_data)\n",
    "\n",
    "# train the model\n",
    "dt_cvModel = train_model_cv(dt_crossval, train)"
   ]
  },
  {
   "cell_type": "code",
   "execution_count": 118,
   "metadata": {},
   "outputs": [
    {
     "name": "stdout",
     "output_type": "stream",
     "text": [
      "Evaluating model...\n",
      "Evaluating model complete.\n"
     ]
    },
    {
     "data": {
      "text/html": [
       "<div>\n",
       "<style scoped>\n",
       "    .dataframe tbody tr th:only-of-type {\n",
       "        vertical-align: middle;\n",
       "    }\n",
       "\n",
       "    .dataframe tbody tr th {\n",
       "        vertical-align: top;\n",
       "    }\n",
       "\n",
       "    .dataframe thead th {\n",
       "        text-align: right;\n",
       "    }\n",
       "</style>\n",
       "<table border=\"1\" class=\"dataframe\">\n",
       "  <thead>\n",
       "    <tr style=\"text-align: right;\">\n",
       "      <th></th>\n",
       "      <th>case</th>\n",
       "      <th>accuracy</th>\n",
       "      <th>f1_score</th>\n",
       "      <th>precision</th>\n",
       "      <th>recall</th>\n",
       "    </tr>\n",
       "  </thead>\n",
       "  <tbody>\n",
       "    <tr>\n",
       "      <th>0</th>\n",
       "      <td>dt-train</td>\n",
       "      <td>0.931937</td>\n",
       "      <td>0.929624</td>\n",
       "      <td>0.931145</td>\n",
       "      <td>0.931937</td>\n",
       "    </tr>\n",
       "  </tbody>\n",
       "</table>\n",
       "</div>"
      ],
      "text/plain": [
       "       case  accuracy  f1_score  precision    recall\n",
       "0  dt-train  0.931937  0.929624   0.931145  0.931937"
      ]
     },
     "execution_count": 118,
     "metadata": {},
     "output_type": "execute_result"
    }
   ],
   "source": [
    "# evaluate the model using the train data\n",
    "dt_trainpreds, dt_trainmetrics = evaluate_model(dt_cvModel, train, 'dt-train')\n",
    "\n",
    "dt_trainmetrics"
   ]
  },
  {
   "cell_type": "markdown",
   "metadata": {},
   "source": [
    "#### Compare between the models\n",
    "\n",
    "After comparing the accuracy we get when we use the test data, logistic regression is the winning model."
   ]
  },
  {
   "cell_type": "code",
   "execution_count": 119,
   "metadata": {},
   "outputs": [
    {
     "data": {
      "text/html": [
       "<div>\n",
       "<style scoped>\n",
       "    .dataframe tbody tr th:only-of-type {\n",
       "        vertical-align: middle;\n",
       "    }\n",
       "\n",
       "    .dataframe tbody tr th {\n",
       "        vertical-align: top;\n",
       "    }\n",
       "\n",
       "    .dataframe thead th {\n",
       "        text-align: right;\n",
       "    }\n",
       "</style>\n",
       "<table border=\"1\" class=\"dataframe\">\n",
       "  <thead>\n",
       "    <tr style=\"text-align: right;\">\n",
       "      <th></th>\n",
       "      <th>case</th>\n",
       "      <th>accuracy</th>\n",
       "      <th>f1_score</th>\n",
       "      <th>precision</th>\n",
       "      <th>recall</th>\n",
       "    </tr>\n",
       "  </thead>\n",
       "  <tbody>\n",
       "    <tr>\n",
       "      <th>0</th>\n",
       "      <td>lr-train</td>\n",
       "      <td>0.816754</td>\n",
       "      <td>0.788772</td>\n",
       "      <td>0.799030</td>\n",
       "      <td>0.816754</td>\n",
       "    </tr>\n",
       "    <tr>\n",
       "      <th>0</th>\n",
       "      <td>rf-train</td>\n",
       "      <td>0.973822</td>\n",
       "      <td>0.973210</td>\n",
       "      <td>0.974672</td>\n",
       "      <td>0.973822</td>\n",
       "    </tr>\n",
       "    <tr>\n",
       "      <th>0</th>\n",
       "      <td>dt-train</td>\n",
       "      <td>0.931937</td>\n",
       "      <td>0.929624</td>\n",
       "      <td>0.931145</td>\n",
       "      <td>0.931937</td>\n",
       "    </tr>\n",
       "  </tbody>\n",
       "</table>\n",
       "</div>"
      ],
      "text/plain": [
       "       case  accuracy  f1_score  precision    recall\n",
       "0  lr-train  0.816754  0.788772   0.799030  0.816754\n",
       "0  rf-train  0.973822  0.973210   0.974672  0.973822\n",
       "0  dt-train  0.931937  0.929624   0.931145  0.931937"
      ]
     },
     "execution_count": 119,
     "metadata": {},
     "output_type": "execute_result"
    }
   ],
   "source": [
    "compare = pd.concat([lr_trainmetrics, rf_trainmetrics, dt_trainmetrics])#, gbt_testmetrics])\n",
    "compare"
   ]
  },
  {
   "cell_type": "markdown",
   "metadata": {},
   "source": [
    "####  Report the results of the winning model on the test data"
   ]
  },
  {
   "cell_type": "code",
   "execution_count": 120,
   "metadata": {},
   "outputs": [],
   "source": [
    "# source: https://haya-toumy.gitbook.io/spark-notes/pyspark/pyspark/random-forest-classifier-example\n",
    "def get_features_importances(model, features, cl):\n",
    "    '''\n",
    "    Returns a dataset with the importance of each feature sorted in descending order.\n",
    "    \n",
    "    INPUT \n",
    "    model - a trained classification model\n",
    "    features - a list with the columns that are used for the features\n",
    "    cl - a shortcut for the algorithm that is being used\n",
    "        \n",
    "    OUTPUT\n",
    "    importances_df - a dataset with the importance of each feature\n",
    "    '''\n",
    "    \n",
    "    if cl == 'lr':\n",
    "        coef_vals = model.coefficients.values.tolist()\n",
    "        importances_df= pd.DataFrame(list(zip(features, coef_vals)), columns=['feature', 'coefficient'])\\\n",
    "                        .sort_values('coefficient', ascending=False)        \n",
    "    else:\n",
    "        vals = model.featureImportances.values.tolist()\n",
    "        importances_df= pd.DataFrame(list(zip(features, vals)), columns=['feature', 'value'])\\\n",
    "                        .sort_values('value', ascending=False)   \n",
    "        \n",
    "    \n",
    "    return importances_df"
   ]
  },
  {
   "cell_type": "code",
   "execution_count": 121,
   "metadata": {},
   "outputs": [],
   "source": [
    "#source: https://www.analyseup.com/learn-python-for-data-science/python-random-forest-feature-importance-plot.html\n",
    "def plot_features_importances(x_data, y_data):\n",
    "    '''\n",
    "    Plots a horizontal barplot using the given dataset with the features importance.\n",
    "    \n",
    "    INPUT \n",
    "    x_data - The data for the x-axis (importance)\n",
    "    y_data - The data for the y-axis (feature)\n",
    "    '''\n",
    "\n",
    "    # define size of bar plot\n",
    "    plt.figure(figsize=(10,8))\n",
    "    # plot Searborn bar chart\n",
    "    sns.barplot(x=x_data, y=y_data)\n",
    "    # add chart labels\n",
    "    plt.title('Importance of features')\n",
    "    plt.xlabel('importance')\n",
    "    plt.ylabel('feature');"
   ]
  },
  {
   "cell_type": "code",
   "execution_count": 122,
   "metadata": {},
   "outputs": [
    {
     "name": "stdout",
     "output_type": "stream",
     "text": [
      "Evaluating model...\n",
      "Evaluating model complete.\n"
     ]
    },
    {
     "data": {
      "text/html": [
       "<div>\n",
       "<style scoped>\n",
       "    .dataframe tbody tr th:only-of-type {\n",
       "        vertical-align: middle;\n",
       "    }\n",
       "\n",
       "    .dataframe tbody tr th {\n",
       "        vertical-align: top;\n",
       "    }\n",
       "\n",
       "    .dataframe thead th {\n",
       "        text-align: right;\n",
       "    }\n",
       "</style>\n",
       "<table border=\"1\" class=\"dataframe\">\n",
       "  <thead>\n",
       "    <tr style=\"text-align: right;\">\n",
       "      <th></th>\n",
       "      <th>case</th>\n",
       "      <th>accuracy</th>\n",
       "      <th>f1_score</th>\n",
       "      <th>precision</th>\n",
       "      <th>recall</th>\n",
       "    </tr>\n",
       "  </thead>\n",
       "  <tbody>\n",
       "    <tr>\n",
       "      <th>0</th>\n",
       "      <td>rf-test</td>\n",
       "      <td>0.764706</td>\n",
       "      <td>0.727358</td>\n",
       "      <td>0.761765</td>\n",
       "      <td>0.764706</td>\n",
       "    </tr>\n",
       "    <tr>\n",
       "      <th>0</th>\n",
       "      <td>rf-train</td>\n",
       "      <td>0.973822</td>\n",
       "      <td>0.973210</td>\n",
       "      <td>0.974672</td>\n",
       "      <td>0.973822</td>\n",
       "    </tr>\n",
       "  </tbody>\n",
       "</table>\n",
       "</div>"
      ],
      "text/plain": [
       "       case  accuracy  f1_score  precision    recall\n",
       "0   rf-test  0.764706  0.727358   0.761765  0.764706\n",
       "0  rf-train  0.973822  0.973210   0.974672  0.973822"
      ]
     },
     "execution_count": 122,
     "metadata": {},
     "output_type": "execute_result"
    }
   ],
   "source": [
    "# evaluate the model using the test data\n",
    "rf_testpreds, rf_testmetrics = evaluate_model(rf_cvModel, test, 'rf-test')\n",
    "\n",
    "# present the metrics for the test and validation data\n",
    "final_metrics = pd.concat([rf_testmetrics, rf_trainmetrics])\n",
    "final_metrics"
   ]
  },
  {
   "cell_type": "code",
   "execution_count": 128,
   "metadata": {},
   "outputs": [
    {
     "name": "stdout",
     "output_type": "stream",
     "text": [
      "Best parameters: {\n",
      "\tRandomForestClassifier_bca3f67ba22e-cacheNodeIds: false,\n",
      "\tRandomForestClassifier_bca3f67ba22e-checkpointInterval: 10,\n",
      "\tRandomForestClassifier_bca3f67ba22e-featureSubsetStrategy: auto,\n",
      "\tRandomForestClassifier_bca3f67ba22e-featuresCol: features,\n",
      "\tRandomForestClassifier_bca3f67ba22e-impurity: gini,\n",
      "\tRandomForestClassifier_bca3f67ba22e-labelCol: label,\n",
      "\tRandomForestClassifier_bca3f67ba22e-maxBins: 32,\n",
      "\tRandomForestClassifier_bca3f67ba22e-maxDepth: 10,\n",
      "\tRandomForestClassifier_bca3f67ba22e-maxMemoryInMB: 256,\n",
      "\tRandomForestClassifier_bca3f67ba22e-minInfoGain: 0.0,\n",
      "\tRandomForestClassifier_bca3f67ba22e-minInstancesPerNode: 1,\n",
      "\tRandomForestClassifier_bca3f67ba22e-numTrees: 10,\n",
      "\tRandomForestClassifier_bca3f67ba22e-predictionCol: prediction,\n",
      "\tRandomForestClassifier_bca3f67ba22e-probabilityCol: probability,\n",
      "\tRandomForestClassifier_bca3f67ba22e-rawPredictionCol: rawPrediction,\n",
      "\tRandomForestClassifier_bca3f67ba22e-seed: 4838954316873299963,\n",
      "\tRandomForestClassifier_bca3f67ba22e-subsamplingRate: 1.0\n",
      "}\n"
     ]
    }
   ],
   "source": [
    "# source: https://stackoverflow.com/questions/36697304/how-to-extract-model-hyper-parameters-from-spark-ml-in-pyspark\n",
    "\n",
    "# get the best model from the cross validation\n",
    "rf_bestmodel = rf_cvModel.bestModel.stages[2]\n",
    "\n",
    "# save the best model\n",
    "rf_bestmodel.write().overwrite().save(\"rf_bestmodel\")\n",
    "\n",
    "# load model\n",
    "rf_bestmodel = RandomForestClassificationModel.load(\"rf_bestmodel\")\n",
    "\n",
    "# get the best parameters\n",
    "bestparams = rf_bestmodel._java_obj.extractParamMap()\n",
    "print(f\"Best parameters: {bestparams}\")"
   ]
  },
  {
   "cell_type": "code",
   "execution_count": 129,
   "metadata": {},
   "outputs": [
    {
     "data": {
      "image/png": "[encoded data removed]",
      "text/plain": [
       "<matplotlib.figure.Figure at 0x7fbb70233f60>"
      ]
     },
     "metadata": {
      "needs_background": "light"
     },
     "output_type": "display_data"
    }
   ],
   "source": [
    "# get features importance\n",
    "rf_importance_df = get_features_importances(rf_bestmodel, features, 'rf')\n",
    "\n",
    "# plot features importance\n",
    "plot_features_importances(rf_importance_df['value'], rf_importance_df['feature'])"
   ]
  },
  {
   "cell_type": "code",
   "execution_count": null,
   "metadata": {},
   "outputs": [],
   "source": []
  },
  {
   "cell_type": "markdown",
   "metadata": {},
   "source": [
    "# Final Steps\n",
    "Clean up your code, adding comments and renaming variables to make the code easier to read and maintain. Refer to the Spark Project Overview page and Data Scientist Capstone Project Rubric to make sure you are including all components of the capstone project and meet all expectations. Remember, this includes thorough documentation in a README file in a Github repository, as well as a web app or blog post."
   ]
  },
  {
   "cell_type": "code",
   "execution_count": null,
   "metadata": {},
   "outputs": [],
   "source": []
  }
 ],
 "metadata": {
  "kernelspec": {
   "display_name": "Python 3",
   "language": "python",
   "name": "python3"
  },
  "language_info": {
   "codemirror_mode": {
    "name": "ipython",
    "version": 3
   },
   "file_extension": ".py",
   "mimetype": "text/x-python",
   "name": "python",
   "nbconvert_exporter": "python",
   "pygments_lexer": "ipython3",
   "version": "3.6.3"
  }
 },
 "nbformat": 4,
 "nbformat_minor": 2
}
